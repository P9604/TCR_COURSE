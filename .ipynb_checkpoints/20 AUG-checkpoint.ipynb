{
 "cells": [
  {
   "cell_type": "code",
   "execution_count": 2,
   "id": "pursuant-productivity",
   "metadata": {},
   "outputs": [
    {
     "name": "stdout",
     "output_type": "stream",
     "text": [
      "Enter length:3\n",
      "Enter width:4\n",
      "area of rectangle: 12\n"
     ]
    }
   ],
   "source": [
    "length = int(input(\"Enter length:\"))\n",
    "width = int(input(\"Enter width:\"))\n",
    "area = length * width\n",
    "print(\"area of rectangle:\", area)"
   ]
  },
  {
   "cell_type": "markdown",
   "id": "minute-indication",
   "metadata": {},
   "source": [
    "## CONDITIONAL STATEMENT"
   ]
  },
  {
   "cell_type": "markdown",
   "id": "integral-indian",
   "metadata": {},
   "source": [
    "### 1)IF"
   ]
  },
  {
   "cell_type": "code",
   "execution_count": 3,
   "id": "fitting-globe",
   "metadata": {},
   "outputs": [],
   "source": [
    "a=5\n",
    "b=7\n",
    "\n",
    "if a>b:\n",
    "    print(a)"
   ]
  },
  {
   "cell_type": "code",
   "execution_count": 4,
   "id": "approved-switch",
   "metadata": {},
   "outputs": [
    {
     "name": "stdout",
     "output_type": "stream",
     "text": [
      "5\n"
     ]
    }
   ],
   "source": [
    "a=5\n",
    "b=7\n",
    "\n",
    "if a<b:\n",
    "    print(a)"
   ]
  },
  {
   "cell_type": "code",
   "execution_count": 5,
   "id": "independent-functionality",
   "metadata": {},
   "outputs": [],
   "source": [
    "a=5\n",
    "b=7\n",
    "\n",
    "if a==b:\n",
    "    print(a)"
   ]
  },
  {
   "cell_type": "markdown",
   "id": "administrative-savage",
   "metadata": {},
   "source": [
    "### 2)IF-ELSE"
   ]
  },
  {
   "cell_type": "code",
   "execution_count": 6,
   "id": "nearby-airline",
   "metadata": {},
   "outputs": [
    {
     "name": "stdout",
     "output_type": "stream",
     "text": [
      "b is greater\n"
     ]
    }
   ],
   "source": [
    "a=5\n",
    "b=7\n",
    "\n",
    "if a>b:\n",
    "    print(\"a is greater\")\n",
    "else:\n",
    "    print(\"b is greater\")"
   ]
  },
  {
   "cell_type": "markdown",
   "id": "passive-wound",
   "metadata": {},
   "source": [
    "### 3)IF-ELIF-ELSE:"
   ]
  },
  {
   "cell_type": "code",
   "execution_count": 7,
   "id": "proved-ownership",
   "metadata": {},
   "outputs": [
    {
     "name": "stdout",
     "output_type": "stream",
     "text": [
      "both same\n"
     ]
    }
   ],
   "source": [
    "a=5\n",
    "b=5\n",
    "\n",
    "if a>b:\n",
    "    print(\"a is greater\")\n",
    "elif a==b:\n",
    "    print(\"both same\")\n",
    "else:\n",
    "    print(\"b is greater\")"
   ]
  },
  {
   "cell_type": "markdown",
   "id": "closed-african",
   "metadata": {},
   "source": [
    "#### SHORT HAND IF"
   ]
  },
  {
   "cell_type": "code",
   "execution_count": 8,
   "id": "cooked-maintenance",
   "metadata": {},
   "outputs": [
    {
     "name": "stdout",
     "output_type": "stream",
     "text": [
      "a is greater\n"
     ]
    }
   ],
   "source": [
    "a=5\n",
    "b=2\n",
    "if a>b : print(\"a is greater\")"
   ]
  },
  {
   "cell_type": "markdown",
   "id": "respected-genesis",
   "metadata": {},
   "source": [
    "### SHORT HAND IF ELSE"
   ]
  },
  {
   "cell_type": "code",
   "execution_count": 9,
   "id": "illegal-brake",
   "metadata": {},
   "outputs": [
    {
     "name": "stdout",
     "output_type": "stream",
     "text": [
      "3\n"
     ]
    }
   ],
   "source": [
    "a=2\n",
    "b=3\n",
    "print(a) if a>b else print(b) "
   ]
  },
  {
   "cell_type": "markdown",
   "id": "considered-mountain",
   "metadata": {},
   "source": [
    "### AND and OR\n"
   ]
  },
  {
   "cell_type": "code",
   "execution_count": 10,
   "id": "metallic-cisco",
   "metadata": {},
   "outputs": [
    {
     "name": "stdout",
     "output_type": "stream",
     "text": [
      "A is largest\n"
     ]
    }
   ],
   "source": [
    "a=400\n",
    "b=200\n",
    "c=300\n",
    "if a>b and c>a:\n",
    "    print(\"C is largest\")\n",
    "elif b>a and b>c:\n",
    "    print(\"B is largest\")\n",
    "else : \n",
    "    print(\"A is largest\")"
   ]
  },
  {
   "cell_type": "markdown",
   "id": "humanitarian-immigration",
   "metadata": {},
   "source": [
    "### 4)NESTED IF"
   ]
  },
  {
   "cell_type": "code",
   "execution_count": 11,
   "id": "adjustable-luxury",
   "metadata": {},
   "outputs": [
    {
     "name": "stdout",
     "output_type": "stream",
     "text": [
      "above 10\n",
      "less than 15\n"
     ]
    }
   ],
   "source": [
    "x=12\n",
    "\n",
    "if x>10:\n",
    "    print('above 10')\n",
    "    if x>15:\n",
    "        print('above 15')\n",
    "        if x>20:\n",
    "            print('more than 20')\n",
    "        else:\n",
    "            print('less than 20')\n",
    "    else:\n",
    "        print('less than 15')\n",
    "else:\n",
    "    print('less than 10')"
   ]
  },
  {
   "cell_type": "markdown",
   "id": "synthetic-reservation",
   "metadata": {},
   "source": [
    "## PROBLEMS ON CONDITIONAL STATEMENT"
   ]
  },
  {
   "cell_type": "markdown",
   "id": "broke-marriage",
   "metadata": {},
   "source": [
    "### 1)WAP TO READ an integer number from user and find it's even or odd"
   ]
  },
  {
   "cell_type": "code",
   "execution_count": 12,
   "id": "wicked-contest",
   "metadata": {},
   "outputs": [
    {
     "name": "stdout",
     "output_type": "stream",
     "text": [
      "Enter a number: 3\n",
      "Number is odd.\n"
     ]
    }
   ],
   "source": [
    "num = int(input(\"Enter a number: \"))\n",
    "if num%2==0:\n",
    "    print(\"Number is even.\")\n",
    "else:\n",
    "    print(\"Number is odd.\")"
   ]
  },
  {
   "cell_type": "code",
   "execution_count": 13,
   "id": "identified-speech",
   "metadata": {
    "scrolled": true
   },
   "outputs": [
    {
     "name": "stdout",
     "output_type": "stream",
     "text": [
      "Enter a number: 4\n",
      "even\n"
     ]
    }
   ],
   "source": [
    "num = int(input(\"Enter a number: \"))\n",
    "print('even') if (num%2 == 0) else print('odd') "
   ]
  },
  {
   "cell_type": "markdown",
   "id": "instrumental-politics",
   "metadata": {},
   "source": [
    "### 2)WAP TO READ 3 integer from user and find out max number"
   ]
  },
  {
   "cell_type": "code",
   "execution_count": 14,
   "id": "domestic-spare",
   "metadata": {},
   "outputs": [
    {
     "name": "stdout",
     "output_type": "stream",
     "text": [
      "First number: 4\n",
      "Second number: 3\n",
      "Third number: 4\n",
      "C is greater\n"
     ]
    }
   ],
   "source": [
    "a = int(input(\"First number: \"))\n",
    "b = int(input(\"Second number: \"))\n",
    "c = int(input(\"Third number: \"))\n",
    "\n",
    "if a>b and a>c:\n",
    "    print(\"A is greater\")\n",
    "elif b>c:\n",
    "        print('B is greater')\n",
    "else:\n",
    "    print('C is greater')"
   ]
  },
  {
   "cell_type": "markdown",
   "id": "searching-approach",
   "metadata": {},
   "source": [
    "## LOOPS"
   ]
  },
  {
   "cell_type": "markdown",
   "id": "environmental-adult",
   "metadata": {},
   "source": [
    "### 1)FOR LOOP"
   ]
  },
  {
   "cell_type": "code",
   "execution_count": 15,
   "id": "negative-toilet",
   "metadata": {
    "scrolled": true
   },
   "outputs": [
    {
     "name": "stdout",
     "output_type": "stream",
     "text": [
      "1\n",
      "2\n",
      "3\n",
      "4\n",
      "5\n"
     ]
    }
   ],
   "source": [
    "a = [1,2,3,4,5]\n",
    "\n",
    "for x in a:\n",
    "    print(x)"
   ]
  },
  {
   "cell_type": "code",
   "execution_count": 16,
   "id": "small-cotton",
   "metadata": {},
   "outputs": [
    {
     "name": "stdout",
     "output_type": "stream",
     "text": [
      "H\n",
      "e\n",
      "l\n",
      "l\n",
      "o\n"
     ]
    }
   ],
   "source": [
    "for i in 'Hello':\n",
    "    print(i)"
   ]
  },
  {
   "cell_type": "code",
   "execution_count": 17,
   "id": "solid-bahamas",
   "metadata": {},
   "outputs": [
    {
     "name": "stdout",
     "output_type": "stream",
     "text": [
      "ram\n",
      "shyam\n",
      "ghanshyam\n",
      "ramukaka\n"
     ]
    }
   ],
   "source": [
    "names = ['ram' , 'shyam' , 'ghanshyam' , 'ramukaka']\n",
    "\n",
    "for x in names:\n",
    "    #print(names)\n",
    "    print(x)\n",
    "    #print('hello')"
   ]
  },
  {
   "cell_type": "code",
   "execution_count": 18,
   "id": "incorporated-serbia",
   "metadata": {
    "scrolled": true
   },
   "outputs": [
    {
     "name": "stdout",
     "output_type": "stream",
     "text": [
      "0\n",
      "1\n",
      "2\n"
     ]
    }
   ],
   "source": [
    "for x in range(3):\n",
    "    print(x)"
   ]
  },
  {
   "cell_type": "code",
   "execution_count": 19,
   "id": "oriental-shoot",
   "metadata": {},
   "outputs": [
    {
     "name": "stdout",
     "output_type": "stream",
     "text": [
      "2\n",
      "4\n",
      "6\n",
      "8\n",
      "10\n",
      "12\n",
      "14\n",
      "16\n",
      "18\n",
      "20\n"
     ]
    }
   ],
   "source": [
    "for x in range(2,21,2):\n",
    "    print(x)"
   ]
  },
  {
   "cell_type": "markdown",
   "id": "ruled-picking",
   "metadata": {},
   "source": [
    "## BREAK/CONTINUE"
   ]
  },
  {
   "cell_type": "code",
   "execution_count": 20,
   "id": "abstract-pickup",
   "metadata": {},
   "outputs": [
    {
     "name": "stdout",
     "output_type": "stream",
     "text": [
      "ram\n",
      "shyam\n",
      "ramukaka\n",
      "0\n",
      "1\n",
      "2\n",
      "3\n",
      "4\n"
     ]
    }
   ],
   "source": [
    "names = ['ram' , 'shyam' , 'ghanshyam' , 'ramukaka']\n",
    "\n",
    "for name in names:\n",
    "    if name == 'ghanshyam':\n",
    "        #break\n",
    "        continue\n",
    "    print(name)\n",
    "    \n",
    "\n",
    "for x in range(20):\n",
    "    if x==5:\n",
    "        break\n",
    "    print(x)"
   ]
  },
  {
   "cell_type": "markdown",
   "id": "quantitative-blowing",
   "metadata": {},
   "source": [
    "## WHILE LOOP"
   ]
  },
  {
   "cell_type": "code",
   "execution_count": 21,
   "id": "composite-telescope",
   "metadata": {},
   "outputs": [
    {
     "name": "stdout",
     "output_type": "stream",
     "text": [
      "1\n",
      "2\n",
      "3\n",
      "4\n"
     ]
    }
   ],
   "source": [
    "i = 1 \n",
    "while i < 5 :\n",
    "    print(i)\n",
    "    i +=1 "
   ]
  }
 ],
 "metadata": {
  "kernelspec": {
   "display_name": "Python 3",
   "language": "python",
   "name": "python3"
  },
  "language_info": {
   "codemirror_mode": {
    "name": "ipython",
    "version": 3
   },
   "file_extension": ".py",
   "mimetype": "text/x-python",
   "name": "python",
   "nbconvert_exporter": "python",
   "pygments_lexer": "ipython3",
   "version": "3.9.5"
  }
 },
 "nbformat": 4,
 "nbformat_minor": 5
}
