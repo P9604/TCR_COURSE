{
 "cells": [
  {
   "cell_type": "markdown",
   "id": "liberal-classic",
   "metadata": {},
   "source": [
    "### Filter()-To filter our data in iterative manner"
   ]
  },
  {
   "cell_type": "code",
   "execution_count": 4,
   "id": "cardiovascular-acrylic",
   "metadata": {
    "scrolled": true
   },
   "outputs": [
    {
     "name": "stdout",
     "output_type": "stream",
     "text": [
      "[6, 2, 4]\n"
     ]
    }
   ],
   "source": [
    "def is_even(n):\n",
    "    return n%2==0\n",
    "\n",
    "num = [3,5,6,2,4,3]\n",
    "\n",
    "even = list(filter(is_even,num))\n",
    "\n",
    "print(even)\n",
    "\n",
    "#is_even(5)"
   ]
  },
  {
   "cell_type": "markdown",
   "id": "manual-christmas",
   "metadata": {},
   "source": [
    "### Lambda(To make code smaller )"
   ]
  },
  {
   "cell_type": "code",
   "execution_count": 5,
   "id": "certified-coast",
   "metadata": {},
   "outputs": [
    {
     "name": "stdout",
     "output_type": "stream",
     "text": [
      "[6, 2, 4]\n"
     ]
    }
   ],
   "source": [
    "num = [3,5,6,2,4,3]\n",
    "\n",
    "even = list(filter(lambda n:n%2==0,num))\n",
    "print(even)"
   ]
  },
  {
   "cell_type": "markdown",
   "id": "amazing-albania",
   "metadata": {},
   "source": [
    "### Map()"
   ]
  },
  {
   "cell_type": "code",
   "execution_count": 11,
   "id": "interim-avenue",
   "metadata": {},
   "outputs": [
    {
     "name": "stdout",
     "output_type": "stream",
     "text": [
      "[6, 2, 4]\n",
      "[12, 4, 8]\n"
     ]
    }
   ],
   "source": [
    "num = [3,5,6,2,4,3]\n",
    "\n",
    "even = list(filter(lambda n:n%2==0,num))\n",
    "\n",
    "doubles = list(filter(lambda n:n*2,num))\n",
    "\n",
    "doubles = list(map(update,even))\n",
    "print(even)\n",
    "print(doubles)"
   ]
  },
  {
   "cell_type": "raw",
   "id": "smart-gospel",
   "metadata": {},
   "source": [
    "Sequence Types data"
   ]
  },
  {
   "cell_type": "markdown",
   "id": "outer-profile",
   "metadata": {},
   "source": [
    "## 1)STRINGS"
   ]
  },
  {
   "cell_type": "code",
   "execution_count": 27,
   "id": "frequent-running",
   "metadata": {},
   "outputs": [
    {
     "name": "stdout",
     "output_type": "stream",
     "text": [
      "hello My name is priya and my age is 20\n"
     ]
    }
   ],
   "source": [
    "#Concatenate\n",
    "\n",
    "name = 'priya'\n",
    "age = 20\n",
    "\n",
    "#print('hello My name is', name ,'and my age is', age)\n",
    "\n",
    "#print('hello My name is ' + name + ' and my age is ' + str(age))\n",
    "\n",
    "#print('hello My name is {name} and my age is {age}'.format(name=name,age=age))\n",
    "\n",
    "#print('hello My name is {} and my age is {}'.format(name,age))\n",
    "\n",
    "#f' string\n",
    "\n",
    "print(f'hello My name is {name} and my age is {age}')\n"
   ]
  },
  {
   "cell_type": "markdown",
   "id": "digital-vacation",
   "metadata": {},
   "source": [
    "### STRING METHOD"
   ]
  },
  {
   "cell_type": "code",
   "execution_count": 62,
   "id": "golden-advocate",
   "metadata": {},
   "outputs": [],
   "source": [
    "s = 'v jk jimin suga jhope jin rm'\n",
    "\n",
    "#Capitalize string(first alphabet) \n",
    "#print(s.capitalize())\n",
    "\n",
    "#upper case(all upper)\n",
    "#print(s.upper())\n",
    "\n",
    "#lower case(all lower)\n",
    "#print(s.lower())\n",
    "\n",
    "#swap case(captial-small and vice versa)\n",
    "#print(s.swapcase())\n",
    "\n",
    "#length\n",
    "#print(len(s))\n",
    "\n",
    "#get the character at position 1\n",
    "#print(s[2:4])\n",
    "\n",
    "#replace\n",
    "#print(s.replace('jk','jungkook'))\n",
    "\n",
    "#count\n",
    "#sub = 'j'\n",
    "#print(s.count(sub))\n",
    "\n",
    "#start with\n",
    "#print(s.startswith('v'))\n",
    "\n",
    "#end with\n",
    "#print(s.endswith('Jin'))\n",
    "\n",
    "#split\n",
    "#print(s.split())\n",
    "\n",
    "#find position \n",
    "#print(s.find('h'))\n",
    "\n",
    "#is all alphabet\n",
    "#print(s.isalpha())\n",
    "\n",
    "#is all numeric\n",
    "#print(s.isnumeric())\n",
    "\n",
    "#is all alphanumeric\n",
    "#print(s.isalnum())\n",
    "\n"
   ]
  },
  {
   "cell_type": "code",
   "execution_count": 63,
   "id": "collect-fraction",
   "metadata": {},
   "outputs": [
    {
     "name": "stdout",
     "output_type": "stream",
     "text": [
      "hello world"
     ]
    }
   ],
   "source": [
    "#for loop with string\n",
    "for x in 'hello world':\n",
    "    print(x,end='')"
   ]
  },
  {
   "cell_type": "code",
   "execution_count": 64,
   "id": "atomic-empire",
   "metadata": {},
   "outputs": [
    {
     "name": "stdout",
     "output_type": "stream",
     "text": [
      "True\n"
     ]
    }
   ],
   "source": [
    "#Check string\n",
    "bts = 'taehyung jungkook jimin suga jhope jin naamjoon'\n",
    "print('taehyung' in bts)"
   ]
  },
  {
   "cell_type": "code",
   "execution_count": 76,
   "id": "hazardous-attachment",
   "metadata": {
    "scrolled": true
   },
   "outputs": [
    {
     "name": "stdout",
     "output_type": "stream",
     "text": [
      "llo\n",
      "hel\n",
      "el ol\n",
      "world\n",
      "d\n",
      "dlrow olleh\n"
     ]
    }
   ],
   "source": [
    "#slicing\n",
    "s = 'hello world'\n",
    "print(s[2:5])\n",
    "print(s[:3])\n",
    "print(s[1:11:2])\n",
    "print(s[6:])\n",
    "print(s[-1])\n",
    "print(s[::-1])"
   ]
  },
  {
   "cell_type": "markdown",
   "id": "endangered-panic",
   "metadata": {},
   "source": [
    "## Problems on string"
   ]
  },
  {
   "cell_type": "markdown",
   "id": "found-puppy",
   "metadata": {},
   "source": [
    "### <i>1.check if a given string is anagram or not</i>"
   ]
  },
  {
   "cell_type": "code",
   "execution_count": 82,
   "id": "swiss-champion",
   "metadata": {},
   "outputs": [
    {
     "name": "stdout",
     "output_type": "stream",
     "text": [
      "Enter first string: night\n",
      "Enter second string: thing\n",
      "Strings are anagram\n",
      "['g', 'h', 'i', 'n', 't']\n",
      "['g', 'h', 'i', 'n', 't']\n",
      "g h i n t\n"
     ]
    }
   ],
   "source": [
    "s1 = input(\"Enter first string: \")\n",
    "s2 = input(\"Enter second string: \")\n",
    "\n",
    "sor1 = sorted(s1)\n",
    "sor2 = sorted(s2)\n",
    " \n",
    "if sor1 == sor2:\n",
    "    print(\"Strings are anagram\")\n",
    "else:\n",
    "    print(\"not an anagram\")\n",
    "print(sor1)\n",
    "print(sor2)\n",
    "\n",
    "x = ' '.join(sor1)\n",
    "print(x)\n",
    "\n"
   ]
  },
  {
   "cell_type": "markdown",
   "id": "thrown-painting",
   "metadata": {},
   "source": [
    "### <i>2.Seperate vowels and consonents</i>"
   ]
  },
  {
   "cell_type": "code",
   "execution_count": 86,
   "id": "heated-taylor",
   "metadata": {},
   "outputs": [
    {
     "name": "stdout",
     "output_type": "stream",
     "text": [
      "enter a string: priya\n",
      "vowels:  2 Consonens: 3\n"
     ]
    }
   ],
   "source": [
    "s1 = input(\"enter a string: \")\n",
    "\n",
    "vc = cc = 0  \n",
    "\n",
    "for i in s1:\n",
    "    if i.isalpha():\n",
    "        if i in ['a','e','i','o','u','A','E','I','O','U']:\n",
    "            vc += 1\n",
    "        else:\n",
    "            cc += 1\n",
    "print('vowels: ', vc , \"Consonens:\" ,cc )\n",
    "\n",
    "            "
   ]
  }
 ],
 "metadata": {
  "kernelspec": {
   "display_name": "Python 3",
   "language": "python",
   "name": "python3"
  },
  "language_info": {
   "codemirror_mode": {
    "name": "ipython",
    "version": 3
   },
   "file_extension": ".py",
   "mimetype": "text/x-python",
   "name": "python",
   "nbconvert_exporter": "python",
   "pygments_lexer": "ipython3",
   "version": "3.9.5"
  }
 },
 "nbformat": 4,
 "nbformat_minor": 5
}
