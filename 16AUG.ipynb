{
 "cells": [
  {
   "cell_type": "markdown",
   "id": "changing-aruba",
   "metadata": {},
   "source": [
    "#Created by Guido Van Rossum released in 1991"
   ]
  },
  {
   "cell_type": "markdown",
   "id": "certain-steal",
   "metadata": {},
   "source": [
    "### Variable"
   ]
  },
  {
   "cell_type": "markdown",
   "id": "german-petroleum",
   "metadata": {},
   "source": [
    "<ol>Rules\n",
    "<li>Case Sensitive</li>\n",
    "<li>Must start with a letter or an underscore</li>\n",
    "<li>Can have numbers but can not start with one</li>\n",
    "</ol>\n"
   ]
  },
  {
   "cell_type": "markdown",
   "id": "quick-modification",
   "metadata": {},
   "source": [
    "## Data Types"
   ]
  },
  {
   "cell_type": "markdown",
   "id": "isolated-progressive",
   "metadata": {},
   "source": [
    "<h3>5 data types</h3>\n",
    "<ol>\n",
    "<li>Numeric</li>\n",
    "<ul>\n",
    "<li>Integer</li>\n",
    "<li>Float</li>\n",
    "<li>Complex Number</li>\n",
    "</ul>\n",
    "<li>Dictionary</li>\n",
    "<li>Boolean</li>\n",
    "<li>Set</li>\n",
    "<li>Sequence Type</li>\n",
    "<ul>\n",
    "<li>String</li>\n",
    "<li>List</li>\n",
    "<li>Tuple</li>\n",
    "</ul>\n",
    "</ol>"
   ]
  },
  {
   "cell_type": "code",
   "execution_count": 6,
   "id": "instructional-preserve",
   "metadata": {},
   "outputs": [
    {
     "name": "stdout",
     "output_type": "stream",
     "text": [
      "1 4.5 Priya\n"
     ]
    }
   ],
   "source": [
    "#x=1   #int\n",
    "#y=4.5  #float\n",
    "#name = 'Priya'  #string\n",
    "#c = 4+5j #complex\n",
    "#is_correct = True #boolean\n",
    "\n",
    "x,y,name = 1,4.5,'Priya'\n",
    "print(x,y,name)"
   ]
  },
  {
   "cell_type": "markdown",
   "id": "responsible-advantage",
   "metadata": {},
   "source": [
    "### Casting"
   ]
  },
  {
   "cell_type": "code",
   "execution_count": 9,
   "id": "middle-gregory",
   "metadata": {},
   "outputs": [
    {
     "name": "stdout",
     "output_type": "stream",
     "text": [
      "<class 'float'>\n",
      "2.5\n",
      "<class 'int'>\n",
      "2\n"
     ]
    }
   ],
   "source": [
    "#Float to int\n",
    "x = 2.5\n",
    " \n",
    "print(type(x))\n",
    "\n",
    "print(x)\n",
    "\n",
    "x=int(x)\n",
    "\n",
    "print(type(x))\n",
    "\n",
    "print(x)"
   ]
  },
  {
   "cell_type": "code",
   "execution_count": 10,
   "id": "progressive-funeral",
   "metadata": {},
   "outputs": [
    {
     "name": "stdout",
     "output_type": "stream",
     "text": [
      "2.0\n"
     ]
    }
   ],
   "source": [
    "#int to float\n",
    "\n",
    "x = 2\n",
    "x = float(x)\n",
    "print(x)"
   ]
  },
  {
   "cell_type": "code",
   "execution_count": 11,
   "id": "elect-shirt",
   "metadata": {},
   "outputs": [],
   "source": [
    "#IF YOU WANT TO DEFINE CONSTANT VALUE GO WITH CAPITAL LETTERS"
   ]
  },
  {
   "cell_type": "code",
   "execution_count": 12,
   "id": "electoral-manhattan",
   "metadata": {},
   "outputs": [],
   "source": [
    "PI = 22/7"
   ]
  },
  {
   "cell_type": "markdown",
   "id": "occasional-communist",
   "metadata": {},
   "source": [
    "### Input from the user"
   ]
  },
  {
   "cell_type": "code",
   "execution_count": 15,
   "id": "adaptive-surprise",
   "metadata": {},
   "outputs": [
    {
     "name": "stdout",
     "output_type": "stream",
     "text": [
      "Enter first number:3\n",
      "Enter second number:4\n",
      "Addition is:  7\n"
     ]
    }
   ],
   "source": [
    "a = int(input(\"Enter first number:\"))\n",
    "b = int(input(\"Enter second number:\"))\n",
    "c = a + b\n",
    "print(\"Addition is: \" ,c)"
   ]
  }
 ],
 "metadata": {
  "kernelspec": {
   "display_name": "Python 3",
   "language": "python",
   "name": "python3"
  },
  "language_info": {
   "codemirror_mode": {
    "name": "ipython",
    "version": 3
   },
   "file_extension": ".py",
   "mimetype": "text/x-python",
   "name": "python",
   "nbconvert_exporter": "python",
   "pygments_lexer": "ipython3",
   "version": "3.9.5"
  }
 },
 "nbformat": 4,
 "nbformat_minor": 5
}
