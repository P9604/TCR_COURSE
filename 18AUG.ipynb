{
 "cells": [
  {
   "cell_type": "markdown",
   "id": "economic-style",
   "metadata": {},
   "source": [
    "# OPERATORS: <h4>Used to perform operations</h4>"
   ]
  },
  {
   "cell_type": "markdown",
   "id": "colonial-intention",
   "metadata": {},
   "source": [
    "<ol>\n",
    "    <li>Arithmetic Operator</li>\n",
    "    <li>Comparison Operator</li>\n",
    "    <li>Assignment Operator</li>\n",
    "    <li>Logical Operator</li>\n",
    "    <li>Bitwise Operator</li>\n",
    "    <li>Identity Operator</li>\n",
    "    <li>Membership Operator</li>\n",
    "</ol>"
   ]
  },
  {
   "cell_type": "markdown",
   "id": "authentic-cocktail",
   "metadata": {},
   "source": [
    "### 1)Arithmetic Operator"
   ]
  },
  {
   "cell_type": "raw",
   "id": "separated-electric",
   "metadata": {},
   "source": [
    " + , - , * , / , % , ** , //(floor division)"
   ]
  },
  {
   "cell_type": "code",
   "execution_count": 6,
   "id": "secondary-start",
   "metadata": {},
   "outputs": [
    {
     "name": "stdout",
     "output_type": "stream",
     "text": [
      "2\n"
     ]
    }
   ],
   "source": [
    "a = 18\n",
    "b = 9\n",
    "\n",
    "c = a+b\n",
    "c = a-b\n",
    "c = a*b\n",
    "c = a/b\n",
    "c = a//b\n",
    "print(c)\n",
    "\n",
    "#c = 4e-3(4 into 10 raised to -3)\n",
    "#c = 4e+3(4 into 10 raised to +3)\n",
    "\n",
    "\n",
    "\n"
   ]
  },
  {
   "cell_type": "markdown",
   "id": "indirect-visiting",
   "metadata": {},
   "source": [
    "### 2)Comparison Operator"
   ]
  },
  {
   "cell_type": "raw",
   "id": "floppy-insured",
   "metadata": {},
   "source": [
    "== , != , <> , > , < , >= , <= "
   ]
  },
  {
   "cell_type": "code",
   "execution_count": 12,
   "id": "aware-spirituality",
   "metadata": {},
   "outputs": [
    {
     "data": {
      "text/plain": [
       "True"
      ]
     },
     "execution_count": 12,
     "metadata": {},
     "output_type": "execute_result"
    }
   ],
   "source": [
    "a = 12 \n",
    "b = 33\n",
    "\n",
    "a == b\n",
    "\n",
    "a > b \n",
    "\n",
    "a < b\n",
    "\n",
    "a != b"
   ]
  },
  {
   "cell_type": "markdown",
   "id": "urban-generation",
   "metadata": {},
   "source": [
    "### 3)Assignment Operator"
   ]
  },
  {
   "cell_type": "raw",
   "id": "affiliated-beach",
   "metadata": {},
   "source": [
    " = , += , -= , *= , /= , %= , **= , //="
   ]
  },
  {
   "cell_type": "code",
   "execution_count": 13,
   "id": "vanilla-kentucky",
   "metadata": {},
   "outputs": [
    {
     "name": "stdout",
     "output_type": "stream",
     "text": [
      "3.0\n"
     ]
    }
   ],
   "source": [
    "a = 6\n",
    "\n",
    "a +=3 #a=a+3\n",
    "\n",
    "a -=3 #a=a-3\n",
    "\n",
    "a *=2 #a=a*2\n",
    "\n",
    "a /=2 #a=a/2\n",
    "\n",
    "a //=2 #a=a//2\n",
    "\n",
    "print(a)"
   ]
  },
  {
   "cell_type": "markdown",
   "id": "important-access",
   "metadata": {},
   "source": [
    "### 4)Logical Operator"
   ]
  },
  {
   "cell_type": "raw",
   "id": "convinced-variation",
   "metadata": {},
   "source": [
    " and , or , not"
   ]
  },
  {
   "cell_type": "code",
   "execution_count": 4,
   "id": "linear-neutral",
   "metadata": {},
   "outputs": [
    {
     "data": {
      "text/plain": [
       "True"
      ]
     },
     "execution_count": 4,
     "metadata": {},
     "output_type": "execute_result"
    }
   ],
   "source": [
    "a = True \n",
    "b = False\n",
    " \n",
    "a and b\n",
    "a or b\n",
    "not a\n",
    "not b"
   ]
  },
  {
   "cell_type": "markdown",
   "id": "similar-prerequisite",
   "metadata": {},
   "source": [
    "### 5)Bitwise Operator"
   ]
  },
  {
   "cell_type": "raw",
   "id": "french-receptor",
   "metadata": {},
   "source": [
    " &(Bindary AND)  ,|(Binary OR) , ^(Binary XOR) , -(Binary ones complement),\n",
    " <<(Binary Left Shift) , >>(Binary Right Shift)   \n",
    "    "
   ]
  },
  {
   "cell_type": "code",
   "execution_count": 16,
   "id": "turned-enzyme",
   "metadata": {},
   "outputs": [
    {
     "data": {
      "text/plain": [
       "24"
      ]
     },
     "execution_count": 16,
     "metadata": {},
     "output_type": "execute_result"
    }
   ],
   "source": [
    "a  = 12  #1 1 0 0 \n",
    "\n",
    "b =  13  #1 1 0 1\n",
    "\n",
    "a & b  #and\n",
    " \n",
    "a | b  #or\n",
    "\n",
    "~a  #not\n",
    "\n",
    "a^b #XOR\n",
    "\n",
    "a>>1 #Rightshift\n",
    "\n",
    "a<<1 #Leftshift"
   ]
  },
  {
   "cell_type": "markdown",
   "id": "relevant-compromise",
   "metadata": {},
   "source": [
    "### 6)Identity Operator"
   ]
  },
  {
   "cell_type": "raw",
   "id": "vocational-greene",
   "metadata": {},
   "source": [
    " is , is not"
   ]
  },
  {
   "cell_type": "code",
   "execution_count": 18,
   "id": "vietnamese-moisture",
   "metadata": {},
   "outputs": [
    {
     "data": {
      "text/plain": [
       "True"
      ]
     },
     "execution_count": 18,
     "metadata": {},
     "output_type": "execute_result"
    }
   ],
   "source": [
    "a = 3\n",
    "\n",
    "b = 3\n",
    "\n",
    "a is b\n",
    "\n",
    "a = [1,2,3]\n",
    "\n",
    "b = [1,2,3]\n",
    "\n",
    "a is b\n",
    "\n",
    "a is not b\n",
    "\n"
   ]
  },
  {
   "cell_type": "markdown",
   "id": "shared-karma",
   "metadata": {},
   "source": [
    "### 7)Membership Operator"
   ]
  },
  {
   "cell_type": "raw",
   "id": "minute-indie",
   "metadata": {},
   "source": [
    "in , not in  "
   ]
  },
  {
   "cell_type": "code",
   "execution_count": 20,
   "id": "quarterly-objective",
   "metadata": {},
   "outputs": [
    {
     "data": {
      "text/plain": [
       "True"
      ]
     },
     "execution_count": 20,
     "metadata": {},
     "output_type": "execute_result"
    }
   ],
   "source": [
    "a = \"Priya\"\n",
    "\n",
    "\"P\" in a\n",
    "\n",
    "#\"T\" in a"
   ]
  },
  {
   "cell_type": "markdown",
   "id": "associate-partner",
   "metadata": {},
   "source": [
    "## OPERATOR PROBLEMNS"
   ]
  },
  {
   "cell_type": "markdown",
   "id": "public-interest",
   "metadata": {},
   "source": [
    "### 1)WAP to read radius of circle and find area of circle and circumference"
   ]
  },
  {
   "cell_type": "code",
   "execution_count": 24,
   "id": "pregnant-sheep",
   "metadata": {},
   "outputs": [
    {
     "name": "stdout",
     "output_type": "stream",
     "text": [
      "Enter radius of circle:6\n",
      "Area of circle is : 113.04\n",
      "Circumference of circle is :  37.68\n"
     ]
    }
   ],
   "source": [
    "r = int(input(\"Enter radius of circle:\"))\n",
    "pi = 3.14\n",
    "\n",
    "area = pi * (r**2)\n",
    "\n",
    "circum = 2 * pi * r\n",
    "\n",
    "print(\"Area of circle is :\",round(area,2))\n",
    "\n",
    "print(\"Circumference of circle is : \", round(circum,2))"
   ]
  },
  {
   "cell_type": "markdown",
   "id": "cloudy-utility",
   "metadata": {},
   "source": [
    "### 2)Swapping of numbers"
   ]
  },
  {
   "cell_type": "code",
   "execution_count": 33,
   "id": "parallel-appreciation",
   "metadata": {},
   "outputs": [
    {
     "name": "stdout",
     "output_type": "stream",
     "text": [
      "5 4\n"
     ]
    }
   ],
   "source": [
    "a = 4\n",
    "b = 5\n",
    "\n",
    "#swapping with temp variable\n",
    "#c = a \n",
    "#a = b\n",
    "#b= c\n",
    "\n",
    "#swappig without temp var\n",
    "#a = a+b\n",
    "#b = a-b\n",
    "#a =  a-b\n",
    "\n",
    "\n",
    "\n",
    "#direct swapping\n",
    "a,b = b,a\n",
    "\n",
    "\n",
    "print(a,b)"
   ]
  }
 ],
 "metadata": {
  "kernelspec": {
   "display_name": "Python 3",
   "language": "python",
   "name": "python3"
  },
  "language_info": {
   "codemirror_mode": {
    "name": "ipython",
    "version": 3
   },
   "file_extension": ".py",
   "mimetype": "text/x-python",
   "name": "python",
   "nbconvert_exporter": "python",
   "pygments_lexer": "ipython3",
   "version": "3.9.5"
  }
 },
 "nbformat": 4,
 "nbformat_minor": 5
}
