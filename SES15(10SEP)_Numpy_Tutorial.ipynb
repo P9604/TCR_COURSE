{
  "nbformat": 4,
  "nbformat_minor": 0,
  "metadata": {
    "colab": {
      "name": "SES15(10SEP)-Numpy Tutorial.ipynb",
      "provenance": [],
      "authorship_tag": "ABX9TyPlYCQmF/HCMc8iy1MsAYd2",
      "include_colab_link": true
    },
    "kernelspec": {
      "name": "python3",
      "display_name": "Python 3"
    },
    "language_info": {
      "name": "python"
    }
  },
  "cells": [
    {
      "cell_type": "markdown",
      "metadata": {
        "id": "view-in-github",
        "colab_type": "text"
      },
      "source": [
        "<a href=\"https://colab.research.google.com/github/P9604/TCR_COURSE/blob/master/SES15(10SEP)_Numpy_Tutorial.ipynb\" target=\"_parent\"><img src=\"https://colab.research.google.com/assets/colab-badge.svg\" alt=\"Open In Colab\"/></a>"
      ]
    },
    {
      "cell_type": "code",
      "metadata": {
        "id": "SlhboFQj2xZB"
      },
      "source": [
        "import numpy as np"
      ],
      "execution_count": 1,
      "outputs": []
    },
    {
      "cell_type": "code",
      "metadata": {
        "colab": {
          "base_uri": "https://localhost:8080/"
        },
        "id": "TGStQ_ve7Ltr",
        "outputId": "cf42e8dd-12b0-4322-fb39-f18442dc2719"
      },
      "source": [
        "print(np.__version__)"
      ],
      "execution_count": 3,
      "outputs": [
        {
          "output_type": "stream",
          "name": "stdout",
          "text": [
            "1.19.5\n"
          ]
        }
      ]
    },
    {
      "cell_type": "code",
      "metadata": {
        "id": "VTWjTtTB7g4F"
      },
      "source": [
        "digit = np.array([[1,2,3],\n",
        "                  [4,5,6],\n",
        "                  [7,8,9]])"
      ],
      "execution_count": 4,
      "outputs": []
    },
    {
      "cell_type": "code",
      "metadata": {
        "colab": {
          "base_uri": "https://localhost:8080/"
        },
        "id": "RL5UTtt97xyv",
        "outputId": "3e9439c8-50a1-4d68-e923-a838e2e163ff"
      },
      "source": [
        "print(digit)"
      ],
      "execution_count": 5,
      "outputs": [
        {
          "output_type": "stream",
          "name": "stdout",
          "text": [
            "[[1 2 3]\n",
            " [4 5 6]\n",
            " [7 8 9]]\n"
          ]
        }
      ]
    },
    {
      "cell_type": "markdown",
      "metadata": {
        "id": "VWeF4Nhw8_U7"
      },
      "source": [
        "**Different DImensions of array:**"
      ]
    },
    {
      "cell_type": "code",
      "metadata": {
        "id": "aceKKAvq763y"
      },
      "source": [
        "a = np.array(42) #no dimension\n",
        "b = np.array([1,2,3,5,6])  \n",
        "c = np.array([[1,2,3],[4,5,6],[7,8,9]])\n",
        "d = np.array([[[1,2,3],[4,5,6]],[[7,8,9],[4,6,2]]])"
      ],
      "execution_count": 12,
      "outputs": []
    },
    {
      "cell_type": "code",
      "metadata": {
        "colab": {
          "base_uri": "https://localhost:8080/"
        },
        "id": "9MKsDY498q9K",
        "outputId": "6c31e8ce-6854-480d-f32a-b8537adabc9d"
      },
      "source": [
        "#dimensions with rows and cols\n",
        "print(a.shape , b.shape , c.shape , d.shape)"
      ],
      "execution_count": 13,
      "outputs": [
        {
          "output_type": "stream",
          "name": "stdout",
          "text": [
            "() (5,) (3, 3) (2, 2, 3)\n"
          ]
        }
      ]
    },
    {
      "cell_type": "code",
      "metadata": {
        "colab": {
          "base_uri": "https://localhost:8080/"
        },
        "id": "Kvg5GM7L9Dyh",
        "outputId": "73d8eae0-31e8-4c2a-ee53-f86034a6c269"
      },
      "source": [
        "#dimensions only\n",
        "print(a.ndim , b.ndim , c.ndim , d.ndim)"
      ],
      "execution_count": 14,
      "outputs": [
        {
          "output_type": "stream",
          "name": "stdout",
          "text": [
            "0 1 2 3\n"
          ]
        }
      ]
    },
    {
      "cell_type": "code",
      "metadata": {
        "id": "Nt47GDrS9P-4"
      },
      "source": [
        "#1,2,3,4 task is can you create an array of two dimensions with this number\n",
        "a = np.array([[1,2],[3,4]]) #manually\n",
        "b = np.array([1,2,3,4],ndmin = 2) #automatically\n"
      ],
      "execution_count": 21,
      "outputs": []
    },
    {
      "cell_type": "code",
      "metadata": {
        "colab": {
          "base_uri": "https://localhost:8080/"
        },
        "id": "XWhMDE1Z-E3y",
        "outputId": "4e8758f9-97fe-4d7d-abf5-148bad3ba3df"
      },
      "source": [
        "print(b.ndim)\n",
        "print(b)\n",
        "print(a.ndim)\n",
        "print(a)"
      ],
      "execution_count": 25,
      "outputs": [
        {
          "output_type": "stream",
          "name": "stdout",
          "text": [
            "2\n",
            "[[1 2 3 4]]\n",
            "2\n",
            "[[1 2]\n",
            " [3 4]]\n"
          ]
        }
      ]
    },
    {
      "cell_type": "code",
      "metadata": {
        "colab": {
          "base_uri": "https://localhost:8080/"
        },
        "id": "UZ9wsHJQ-TTe",
        "outputId": "2072c5e8-7169-47df-8892-ebb823a3a0fe"
      },
      "source": [
        "d = np.array([1,2,3,4],ndmin = 1)\n",
        "print(d)\n",
        "d = d.reshape((2,2))\n",
        "print(d)\n"
      ],
      "execution_count": 39,
      "outputs": [
        {
          "output_type": "stream",
          "name": "stdout",
          "text": [
            "[1 2 3 4]\n",
            "[[1 2]\n",
            " [3 4]]\n"
          ]
        }
      ]
    },
    {
      "cell_type": "code",
      "metadata": {
        "colab": {
          "base_uri": "https://localhost:8080/"
        },
        "id": "kkT_1GE--T7T",
        "outputId": "8ffb4fce-57b3-45d2-eafe-d8fc2e31b699"
      },
      "source": [
        "val  = np.array([[1,2],[3,4]])\n",
        "val[0]"
      ],
      "execution_count": 40,
      "outputs": [
        {
          "output_type": "execute_result",
          "data": {
            "text/plain": [
              "array([1, 2])"
            ]
          },
          "metadata": {},
          "execution_count": 40
        }
      ]
    },
    {
      "cell_type": "code",
      "metadata": {
        "id": "QsaOxnOy-UCl"
      },
      "source": [
        ""
      ],
      "execution_count": null,
      "outputs": []
    },
    {
      "cell_type": "code",
      "metadata": {
        "id": "s9ncnHsx-UIJ"
      },
      "source": [
        ""
      ],
      "execution_count": null,
      "outputs": []
    },
    {
      "cell_type": "code",
      "metadata": {
        "id": "YoqmPPql-UM6"
      },
      "source": [
        ""
      ],
      "execution_count": null,
      "outputs": []
    },
    {
      "cell_type": "code",
      "metadata": {
        "id": "uNTrvwB5-UdQ"
      },
      "source": [
        ""
      ],
      "execution_count": null,
      "outputs": []
    },
    {
      "cell_type": "code",
      "metadata": {
        "id": "8cKRJFzI-UpU"
      },
      "source": [
        ""
      ],
      "execution_count": null,
      "outputs": []
    },
    {
      "cell_type": "code",
      "metadata": {
        "id": "Qb6rh8H2-VIi"
      },
      "source": [
        ""
      ],
      "execution_count": null,
      "outputs": []
    },
    {
      "cell_type": "code",
      "metadata": {
        "id": "C48XSvjX-VTb"
      },
      "source": [
        ""
      ],
      "execution_count": null,
      "outputs": []
    }
  ]
}