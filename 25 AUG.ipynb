{
 "cells": [
  {
   "cell_type": "markdown",
   "id": "speaking-activation",
   "metadata": {},
   "source": [
    "## Function"
   ]
  },
  {
   "cell_type": "code",
   "execution_count": 1,
   "id": "occupied-denial",
   "metadata": {},
   "outputs": [
    {
     "name": "stdout",
     "output_type": "stream",
     "text": [
      "8\n"
     ]
    }
   ],
   "source": [
    "def add(x,y):\n",
    "    print( x+y)\n",
    "add(3,5)"
   ]
  },
  {
   "cell_type": "code",
   "execution_count": 2,
   "id": "marked-complex",
   "metadata": {},
   "outputs": [
    {
     "name": "stdout",
     "output_type": "stream",
     "text": [
      "8\n"
     ]
    }
   ],
   "source": [
    "def power(x,y):\n",
    "    print (x**y)\n",
    "power(2,3)"
   ]
  },
  {
   "cell_type": "code",
   "execution_count": 3,
   "id": "civilian-oracle",
   "metadata": {},
   "outputs": [
    {
     "name": "stdout",
     "output_type": "stream",
     "text": [
      "3\n"
     ]
    }
   ],
   "source": [
    "def add(x,y,z=0):\n",
    "    print(x+y+z)\n",
    "add(1,2)"
   ]
  },
  {
   "cell_type": "code",
   "execution_count": 4,
   "id": "proved-prisoner",
   "metadata": {},
   "outputs": [
    {
     "name": "stdout",
     "output_type": "stream",
     "text": [
      "24\n",
      "9\n"
     ]
    }
   ],
   "source": [
    "def add(x=None , y=None , z= None):\n",
    "  print(x*y*z)\n",
    "  print(x+y+z)\n",
    "    \n",
    "add(2,3,4)"
   ]
  },
  {
   "cell_type": "markdown",
   "id": "useful-shark",
   "metadata": {},
   "source": [
    "## Lambda Function"
   ]
  },
  {
   "cell_type": "code",
   "execution_count": 5,
   "id": "olive-crawford",
   "metadata": {},
   "outputs": [
    {
     "name": "stdout",
     "output_type": "stream",
     "text": [
      "11\n"
     ]
    }
   ],
   "source": [
    "add = lambda a=0,b=0,c=0 : a + b + c\n",
    "print(add(4,5,2))"
   ]
  },
  {
   "cell_type": "code",
   "execution_count": 6,
   "id": "black-xerox",
   "metadata": {},
   "outputs": [
    {
     "name": "stdout",
     "output_type": "stream",
     "text": [
      "720\n"
     ]
    }
   ],
   "source": [
    "#Factorial \n",
    "#n = int (input(\"Enter a number: \"))\n",
    "def fact(n):\n",
    "    if n==0 or n==1:\n",
    "        return 1\n",
    "    return n * fact(n-1)\n",
    "\n",
    "print(fact(6))"
   ]
  },
  {
   "cell_type": "code",
   "execution_count": 7,
   "id": "according-watts",
   "metadata": {},
   "outputs": [
    {
     "name": "stdout",
     "output_type": "stream",
     "text": [
      "Enter a number: 2\n",
      "2\n"
     ]
    }
   ],
   "source": [
    "n = int (input(\"Enter a number: \"))\n",
    "def fact(n):\n",
    "    f=1\n",
    "    for i in range(1,n+1):\n",
    "        f = f*i\n",
    "    print(f)\n",
    "fact(n)"
   ]
  },
  {
   "cell_type": "markdown",
   "id": "federal-mathematics",
   "metadata": {},
   "source": [
    "## Menu driven program using function"
   ]
  },
  {
   "cell_type": "code",
   "execution_count": null,
   "id": "sharing-awareness",
   "metadata": {},
   "outputs": [
    {
     "name": "stdout",
     "output_type": "stream",
     "text": [
      "1.Area of circle: \n",
      "2.Area of Rectangle: \n",
      "3.Exit\n",
      "2\n",
      "Enter width: 4\n",
      "Enter length: 5\n",
      "Area of rectangle:  20.0\n"
     ]
    }
   ],
   "source": [
    "def area(p1=None , p2=None):\n",
    "    if p1 is not None and p2 is None:\n",
    "        ans = 3.14 *  (p1 **2)\n",
    "        return ans\n",
    "    elif p1 is not None and p2 is not None:\n",
    "        ans= p1*p2\n",
    "        return ans\n",
    "\n",
    "\n",
    "while True:\n",
    "    op = int(input('1.Area of circle: \\n2.Area of Rectangle: \\n3.Exit\\n'))\n",
    "    if op == 1 :\n",
    "        PI = 22/7\n",
    "        r=float(input(\"Enter radius of circle: \"))\n",
    "        area = area(r)\n",
    "        print(\"Area of circle: \",area)\n",
    "    elif op == 2:\n",
    "        w = float(input(\"Enter width: \"))\n",
    "        l = float(input(\"Enter length: \"))\n",
    "        area = area(w,l)\n",
    "        print(\"Area of rectangle: \",area)\n",
    "    elif op == 3:\n",
    "        break\n",
    "    else :\n",
    "        print(\"Invalid option\")"
   ]
  },
  {
   "cell_type": "code",
   "execution_count": null,
   "id": "japanese-tradition",
   "metadata": {},
   "outputs": [],
   "source": []
  }
 ],
 "metadata": {
  "kernelspec": {
   "display_name": "Python 3",
   "language": "python",
   "name": "python3"
  },
  "language_info": {
   "codemirror_mode": {
    "name": "ipython",
    "version": 3
   },
   "file_extension": ".py",
   "mimetype": "text/x-python",
   "name": "python",
   "nbconvert_exporter": "python",
   "pygments_lexer": "ipython3",
   "version": "3.9.5"
  }
 },
 "nbformat": 4,
 "nbformat_minor": 5
}
