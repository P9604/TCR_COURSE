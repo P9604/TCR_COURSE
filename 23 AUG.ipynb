{
 "cells": [
  {
   "cell_type": "markdown",
   "id": "special-separate",
   "metadata": {},
   "source": [
    "## 1)WAP to find Factorial of number"
   ]
  },
  {
   "cell_type": "code",
   "execution_count": 1,
   "id": "random-september",
   "metadata": {},
   "outputs": [],
   "source": [
    "#0=1\n",
    "#1=1\n",
    "#2=2*1\n",
    "#3=3*2*1 ...\n"
   ]
  },
  {
   "cell_type": "code",
   "execution_count": 16,
   "id": "related-rally",
   "metadata": {},
   "outputs": [
    {
     "name": "stdout",
     "output_type": "stream",
     "text": [
      "Enter a number: 0\n",
      "1\n"
     ]
    }
   ],
   "source": [
    "n = int(input(\"Enter a number: \"))\n",
    "fact = 1 \n",
    "for i in range(1,n+1):\n",
    "        fact = fact * i\n",
    "print(fact)"
   ]
  },
  {
   "cell_type": "markdown",
   "id": "difficult-hacker",
   "metadata": {},
   "source": [
    "## 2)WAP to find sum of digits in number."
   ]
  },
  {
   "cell_type": "code",
   "execution_count": 27,
   "id": "graduate-nightlife",
   "metadata": {
    "scrolled": true
   },
   "outputs": [
    {
     "name": "stdout",
     "output_type": "stream",
     "text": [
      "Enter a number: -24\n",
      "Please enter a positive number.\n"
     ]
    }
   ],
   "source": [
    "sum = 0\n",
    "n = int(input(\"Enter a number: \"))\n",
    "if n<0:\n",
    "    print(\"Please enter a positive number.\")\n",
    "else:\n",
    "    while n>0:\n",
    "        digit = n % 10\n",
    "        sum = sum + digit\n",
    "        n = n//10\n",
    "    print(sum)\n"
   ]
  },
  {
   "cell_type": "markdown",
   "id": "motivated-dinner",
   "metadata": {},
   "source": [
    "## 3)WAP to find mul of digits in number."
   ]
  },
  {
   "cell_type": "code",
   "execution_count": 34,
   "id": "covered-upper",
   "metadata": {},
   "outputs": [
    {
     "name": "stdout",
     "output_type": "stream",
     "text": [
      "Enter a number: -134\n",
      "Please enter positive .\n"
     ]
    }
   ],
   "source": [
    "mul = 1\n",
    "n = int(input(\"Enter a number: \"))\n",
    "if n<0:\n",
    "    print(\"Please enter positive .\")\n",
    "else:\n",
    "    while n>0:\n",
    "        digit = n % 10\n",
    "        mul = mul * digit\n",
    "        n = n//10\n",
    "    print(mul)"
   ]
  },
  {
   "cell_type": "markdown",
   "id": "optional-bailey",
   "metadata": {},
   "source": [
    "## 4)Pattern printing "
   ]
  },
  {
   "cell_type": "raw",
   "id": "greatest-vienna",
   "metadata": {},
   "source": [
    " * * * *\n",
    " * * * *\n",
    " * * * *\n",
    " * * * *"
   ]
  },
  {
   "cell_type": "code",
   "execution_count": 45,
   "id": "taken-winter",
   "metadata": {
    "scrolled": true
   },
   "outputs": [
    {
     "name": "stdout",
     "output_type": "stream",
     "text": [
      "* * * *\n",
      "* * * *\n",
      "* * * *\n",
      "* * * *\n"
     ]
    }
   ],
   "source": [
    "for i in range(4):\n",
    "    print( '* * * *')"
   ]
  },
  {
   "cell_type": "code",
   "execution_count": 49,
   "id": "three-chemical",
   "metadata": {},
   "outputs": [
    {
     "name": "stdout",
     "output_type": "stream",
     "text": [
      "* * * * \n",
      "* * * * \n",
      "* * * * \n",
      "* * * * \n"
     ]
    }
   ],
   "source": [
    "for i in range(4):\n",
    "    print('*' , end = ' ')\n",
    "print()\n",
    "for i in range(4):\n",
    "    print('*' , end = ' ')\n",
    "print()\n",
    "for i in range(4):\n",
    "    print('*' , end = ' ')\n",
    "print()\n",
    "for i in range(4):\n",
    "    print('*' , end = ' ')\n",
    "print()"
   ]
  },
  {
   "cell_type": "code",
   "execution_count": 53,
   "id": "reduced-mexico",
   "metadata": {
    "scrolled": true
   },
   "outputs": [
    {
     "name": "stdout",
     "output_type": "stream",
     "text": [
      "* * * * \n",
      "* * * * \n",
      "* * * * \n",
      "* * * * \n"
     ]
    }
   ],
   "source": [
    "for j in range(4):\n",
    "    for i in range(4):\n",
    "         print('*' , end = ' ')\n",
    "    print()"
   ]
  },
  {
   "cell_type": "code",
   "execution_count": 60,
   "id": "helpful-accident",
   "metadata": {
    "scrolled": true
   },
   "outputs": [
    {
     "name": "stdout",
     "output_type": "stream",
     "text": [
      " *  *  *  * \n",
      " *  *  *  * \n",
      " *  *  *  * \n",
      " *  *  *  * \n"
     ]
    }
   ],
   "source": [
    "#best way \n",
    "for i in range(4):\n",
    "    print( ' * ' * 4)"
   ]
  },
  {
   "cell_type": "code",
   "execution_count": 63,
   "id": "metropolitan-revelation",
   "metadata": {},
   "outputs": [
    {
     "name": "stdout",
     "output_type": "stream",
     "text": [
      "\n",
      "*\n",
      "**\n",
      "***\n",
      "****\n"
     ]
    }
   ],
   "source": [
    "for i in range(5):\n",
    "    print('*'*i)\n",
    "    i += 1"
   ]
  },
  {
   "cell_type": "code",
   "execution_count": 65,
   "id": "solid-cabinet",
   "metadata": {
    "scrolled": true
   },
   "outputs": [
    {
     "name": "stdout",
     "output_type": "stream",
     "text": [
      "\n",
      "* \n",
      "* * \n",
      "* * * \n",
      "* * * * \n",
      "* * * * * \n",
      "* * * * * * \n"
     ]
    }
   ],
   "source": [
    "for j in range(7):\n",
    "    for i in range(j):\n",
    "        print('*' , end = ' ')\n",
    "    print()\n",
    "        "
   ]
  },
  {
   "cell_type": "code",
   "execution_count": 75,
   "id": "confidential-traffic",
   "metadata": {},
   "outputs": [
    {
     "name": "stdout",
     "output_type": "stream",
     "text": [
      "#######\n",
      "######\n",
      "#####\n",
      "####\n",
      "###\n",
      "##\n",
      "#\n",
      "\n",
      "******\n",
      "*****\n",
      "****\n",
      "***\n",
      "**\n",
      "*\n",
      "\n"
     ]
    }
   ],
   "source": [
    "for i in range(7,-1,-1):\n",
    "    print('#' * i)\n",
    "    \n",
    "for i in range(7):\n",
    "    print('*' * (6-i))"
   ]
  },
  {
   "cell_type": "code",
   "execution_count": 90,
   "id": "searching-intelligence",
   "metadata": {},
   "outputs": [
    {
     "name": "stdout",
     "output_type": "stream",
     "text": [
      "           X\n",
      "         X X\n",
      "       X X X\n",
      "     X X X X\n",
      "   X X X X X\n"
     ]
    }
   ],
   "source": [
    "for a in range (5):\n",
    "    print('  ' * (5-a)+ ' X' *(a+1))"
   ]
  },
  {
   "cell_type": "code",
   "execution_count": 89,
   "id": "turkish-innocent",
   "metadata": {},
   "outputs": [
    {
     "name": "stdout",
     "output_type": "stream",
     "text": [
      "      X\n",
      "     X X\n",
      "    X X X\n",
      "   X X X X\n",
      "  X X X X X\n"
     ]
    }
   ],
   "source": [
    "for a in range (5):\n",
    "    print(' ' * (5-a)+ ' X' *(a+1))"
   ]
  },
  {
   "cell_type": "code",
   "execution_count": 88,
   "id": "incredible-sauce",
   "metadata": {},
   "outputs": [
    {
     "name": "stdout",
     "output_type": "stream",
     "text": [
      " X\n",
      " X X\n",
      " X X X\n",
      " X X X X\n",
      " X X X X X\n"
     ]
    }
   ],
   "source": [
    "for a in range (5):\n",
    "    print('' * (5-a)+ ' X' *(a+1))"
   ]
  },
  {
   "cell_type": "code",
   "execution_count": 91,
   "id": "better-spirit",
   "metadata": {},
   "outputs": [
    {
     "name": "stdout",
     "output_type": "stream",
     "text": [
      " X X X X X X\n",
      "  X X X X X\n",
      "   X X X X\n",
      "    X X X\n",
      "     X X\n",
      "      X\n"
     ]
    }
   ],
   "source": [
    "for a in range (5,-1,-1):\n",
    "    print(' ' * (5-a)+ ' X' *(a+1))"
   ]
  },
  {
   "cell_type": "code",
   "execution_count": 94,
   "id": "dental-announcement",
   "metadata": {
    "scrolled": true
   },
   "outputs": [
    {
     "name": "stdout",
     "output_type": "stream",
     "text": [
      "      X\n",
      "     X X\n",
      "    X X X\n",
      "   X X X X\n",
      "  X X X X X\n",
      " X X X X X X\n",
      "  X X X X X\n",
      "   X X X X\n",
      "    X X X\n",
      "     X X\n",
      "      X\n"
     ]
    }
   ],
   "source": [
    "for a in range (5):\n",
    "    print(' ' * (5-a)+ ' X' *(a+1))\n",
    "for a in range (5,-1,-1):\n",
    "    print(' ' * (5-a)+ ' X' *(a+1))"
   ]
  },
  {
   "cell_type": "code",
   "execution_count": 99,
   "id": "veterinary-commission",
   "metadata": {
    "scrolled": true
   },
   "outputs": [
    {
     "name": "stdout",
     "output_type": "stream",
     "text": [
      " X X X X X X\n",
      "   X X X X X\n",
      "     X X X X\n",
      "       X X X\n",
      "         X X\n",
      "           X\n"
     ]
    }
   ],
   "source": [
    "for a in range (5,-1,-1):\n",
    "    print('  ' * (5-a)+ ' X' *(a+1))"
   ]
  },
  {
   "cell_type": "code",
   "execution_count": 114,
   "id": "lesbian-chess",
   "metadata": {},
   "outputs": [
    {
     "name": "stdout",
     "output_type": "stream",
     "text": [
      " X\n",
      " X X\n",
      " X X X\n",
      " X X X X\n",
      " X X X X X\n",
      " X X X X X X\n",
      " X X X X X\n",
      " X X X X\n",
      " X X X\n",
      " X X\n",
      " X\n"
     ]
    }
   ],
   "source": [
    "for a in range (5):\n",
    "    print(' X' * (a+1))\n",
    "for a in range (5,-1,-1):\n",
    "    print(' X' * (a+1))"
   ]
  },
  {
   "cell_type": "code",
   "execution_count": 117,
   "id": "preliminary-archives",
   "metadata": {},
   "outputs": [
    {
     "name": "stdout",
     "output_type": "stream",
     "text": [
      " ** ** \n",
      "*  *  *\n",
      "*     *\n",
      " *   * \n",
      "  * *  \n",
      "   *   \n"
     ]
    }
   ],
   "source": [
    "for row in range(6):\n",
    "    for col in range(7):\n",
    "        if (row == 0 and col%3 !=0) or (row == 1 and col %3==0) or (row-col==2) or (row+col==8):\n",
    "            print('*',end='')\n",
    "        else:\n",
    "            print(end=' ')\n",
    "    \n",
    "    print()"
   ]
  }
 ],
 "metadata": {
  "kernelspec": {
   "display_name": "Python 3",
   "language": "python",
   "name": "python3"
  },
  "language_info": {
   "codemirror_mode": {
    "name": "ipython",
    "version": 3
   },
   "file_extension": ".py",
   "mimetype": "text/x-python",
   "name": "python",
   "nbconvert_exporter": "python",
   "pygments_lexer": "ipython3",
   "version": "3.9.5"
  }
 },
 "nbformat": 4,
 "nbformat_minor": 5
}
